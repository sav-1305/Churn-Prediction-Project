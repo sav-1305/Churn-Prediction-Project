{
 "cells": [
  {
   "cell_type": "markdown",
   "metadata": {},
   "source": [
    "# EDA with SQL\n",
    "Data analysis has been employed in mySQL Workbench due to incompatibilities of mySQL and SQLite3 connection APIs with Python.  \n",
    "\n",
    "### EDA with VISUALIZATION RECAP:\n",
    "* Significant features (wrt churn) are age, gender, balance and number of products bought\n",
    "\n",
    "\n",
    "### EDA INFERENCES:\n",
    "1. Number of People retained is much greater than those who churned (Class Imbalance for predictive models)\n",
    "2. **AGE**:\n",
    "    1. Average Age in all three countries is between 38-40  \n",
    "    2. Average Age of churned users was slightly higher than those retained. \n",
    "3. **BALANCE**:\n",
    "    1. Average Balance of people who churned is somewhat higher than those retained  \n",
    "        retained: 72745.29  \n",
    "        churned : 91108.54\n",
    "4. **NUM_OF_PRODUCTS**:\n",
    "    1. Average Number of Products owned by those churned and retained is similar, both approximating to 1.5\n",
    "5. **GENDER**:\n",
    "    1. Churn rate of women was slightly higher than that of men\n",
    "6. **CREDIT_SCORE**:\n",
    "    1. The average credit score was almost the same for churned and retained users\n",
    "7. **TENURE**:\n",
    "    1. Average Tenure of users was 5 Years\n",
    "8. **ESTIMATED_SALARY**:\n",
    "    1. Average Estimated Salary was $100090.24\n",
    "    2. Average Salary of churned users was inconsiderably higher than those retained\n",
    "9. **WAS_ACTIVE**:\n",
    "    1. Users who were Inactive were the majority (2/3rd) of those who churned. Activity did not appear to play a role in Retention\n",
    "10. **CREDIT_CARD**:\n",
    "    1. Users who had a credit card also counted the majority of churned people. Additionally, the majority of retained users also did have a credit card.\n",
    "    \n"
   ]
  }
 ],
 "metadata": {
  "kernelspec": {
   "display_name": "Python 3",
   "language": "python",
   "name": "python3"
  },
  "language_info": {
   "codemirror_mode": {
    "name": "ipython",
    "version": 3
   },
   "file_extension": ".py",
   "mimetype": "text/x-python",
   "name": "python",
   "nbconvert_exporter": "python",
   "pygments_lexer": "ipython3",
   "version": "3.8.10"
  }
 },
 "nbformat": 4,
 "nbformat_minor": 2
}
